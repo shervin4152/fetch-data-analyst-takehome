{
 "cells": [
  {
   "cell_type": "code",
   "execution_count": 1,
   "id": "610fe07c",
   "metadata": {},
   "outputs": [],
   "source": [
    "import pandas as pd\n",
    "import sqlite3\n",
    " \n",
    "# connecting to the database\n",
    "conn = sqlite3.connect(\"gfg.db\")\n",
    "# cursor\n",
    "crsr = conn.cursor()"
   ]
  },
  {
   "cell_type": "code",
   "execution_count": 2,
   "id": "34bf6e3e",
   "metadata": {},
   "outputs": [],
   "source": [
    "brands = pd.read_csv(\"brands.csv\").to_sql('brands', conn)\n",
    "receipt_items = pd.read_csv(\"receipt_items.csv\").to_sql('receipt_items', conn)\n",
    "receipts = pd.read_csv(\"receipts.csv\").to_sql('receipts', conn)\n",
    "users = pd.read_csv(\"users.csv\").to_sql('users', conn)"
   ]
  },
  {
   "cell_type": "code",
   "execution_count": 19,
   "id": "948ac718",
   "metadata": {},
   "outputs": [
    {
     "data": {
      "text/html": [
       "<div>\n",
       "<style scoped>\n",
       "    .dataframe tbody tr th:only-of-type {\n",
       "        vertical-align: middle;\n",
       "    }\n",
       "\n",
       "    .dataframe tbody tr th {\n",
       "        vertical-align: top;\n",
       "    }\n",
       "\n",
       "    .dataframe thead th {\n",
       "        text-align: right;\n",
       "    }\n",
       "</style>\n",
       "<table border=\"1\" class=\"dataframe\">\n",
       "  <thead>\n",
       "    <tr style=\"text-align: right;\">\n",
       "      <th></th>\n",
       "      <th>NAME</th>\n",
       "    </tr>\n",
       "  </thead>\n",
       "  <tbody>\n",
       "    <tr>\n",
       "      <th>0</th>\n",
       "      <td>Brooks®</td>\n",
       "    </tr>\n",
       "  </tbody>\n",
       "</table>\n",
       "</div>"
      ],
      "text/plain": [
       "      NAME\n",
       "0  Brooks®"
      ]
     },
     "execution_count": 19,
     "metadata": {},
     "output_type": "execute_result"
    }
   ],
   "source": [
    "# Which brand saw the most dollars spent in the month of June?\n",
    "pd.read_sql( \"\"\"\n",
    "SELECT B.NAME\n",
    "FROM Receipt_items AS RI\n",
    "INNER JOIN Receipts AS RE ON RI.REWARDS_RECEIPT_ID = RE.ID \n",
    "INNER JOIN Brands AS B ON B.BARCODE = RI.BARCODE\n",
    "WHERE strftime('%m', RE.PURCHASE_DATE) = '06'\n",
    "GROUP BY B.NAME\n",
    "ORDER BY SUM(RI.TOTAL_FINAL_PRICE) DESC\n",
    "LIMIT 1\n",
    "\"\"\", conn)"
   ]
  },
  {
   "cell_type": "code",
   "execution_count": 7,
   "id": "d502ad9c",
   "metadata": {},
   "outputs": [
    {
     "data": {
      "text/html": [
       "<div>\n",
       "<style scoped>\n",
       "    .dataframe tbody tr th:only-of-type {\n",
       "        vertical-align: middle;\n",
       "    }\n",
       "\n",
       "    .dataframe tbody tr th {\n",
       "        vertical-align: top;\n",
       "    }\n",
       "\n",
       "    .dataframe thead th {\n",
       "        text-align: right;\n",
       "    }\n",
       "</style>\n",
       "<table border=\"1\" class=\"dataframe\">\n",
       "  <thead>\n",
       "    <tr style=\"text-align: right;\">\n",
       "      <th></th>\n",
       "      <th>ID</th>\n",
       "      <th>TOTAL_SPENT</th>\n",
       "      <th>PURCHASE_DATE</th>\n",
       "    </tr>\n",
       "  </thead>\n",
       "  <tbody>\n",
       "    <tr>\n",
       "      <th>0</th>\n",
       "      <td>609ab37f7a2e8f2f95ae968f</td>\n",
       "      <td>93015.18</td>\n",
       "      <td>2021-08-17T00:00:00Z</td>\n",
       "    </tr>\n",
       "  </tbody>\n",
       "</table>\n",
       "</div>"
      ],
      "text/plain": [
       "                         ID  TOTAL_SPENT         PURCHASE_DATE\n",
       "0  609ab37f7a2e8f2f95ae968f     93015.18  2021-08-17T00:00:00Z"
      ]
     },
     "execution_count": 7,
     "metadata": {},
     "output_type": "execute_result"
    }
   ],
   "source": [
    "# Which user spent the most money in the month of August? \n",
    "pd.read_sql(\"\"\"\n",
    "SELECT U.ID, RE.TOTAL_SPENT, RE.PURCHASE_DATE\n",
    "FROM Users AS U\n",
    "INNER JOIN Receipts AS RE on RE.USER_ID = U.ID\n",
    "WHERE strftime('%m', PURCHASE_DATE) = '08' AND RE.TOTAL_SPENT = (SELECT MAX(RE.TOTAL_SPENT)\n",
    "                                                        FROM Receipts AS RE)\n",
    "ORDER BY RE.TOTAL_SPENT DESC\n",
    "\"\"\", conn)"
   ]
  },
  {
   "cell_type": "code",
   "execution_count": 8,
   "id": "c7747017",
   "metadata": {},
   "outputs": [
    {
     "data": {
      "text/html": [
       "<div>\n",
       "<style scoped>\n",
       "    .dataframe tbody tr th:only-of-type {\n",
       "        vertical-align: middle;\n",
       "    }\n",
       "\n",
       "    .dataframe tbody tr th {\n",
       "        vertical-align: top;\n",
       "    }\n",
       "\n",
       "    .dataframe thead th {\n",
       "        text-align: right;\n",
       "    }\n",
       "</style>\n",
       "<table border=\"1\" class=\"dataframe\">\n",
       "  <thead>\n",
       "    <tr style=\"text-align: right;\">\n",
       "      <th></th>\n",
       "      <th>ID</th>\n",
       "    </tr>\n",
       "  </thead>\n",
       "  <tbody>\n",
       "    <tr>\n",
       "      <th>0</th>\n",
       "      <td>617376b8a9619d488190e0b6</td>\n",
       "    </tr>\n",
       "  </tbody>\n",
       "</table>\n",
       "</div>"
      ],
      "text/plain": [
       "                         ID\n",
       "0  617376b8a9619d488190e0b6"
      ]
     },
     "execution_count": 8,
     "metadata": {},
     "output_type": "execute_result"
    }
   ],
   "source": [
    "#What user bought the most expensive item?\n",
    "pd.read_sql( \"\"\"\n",
    "SELECT U.ID\n",
    "FROM Users AS U\n",
    "INNER JOIN Receipts AS RE on RE.USER_ID = U.ID\n",
    "INNER JOIN Receipt_items AS RI on RI.REWARDS_RECEIPT_ID = RE.ID\n",
    "WHERE RI.TOTAL_FINAL_PRICE = (SELECT MAX(RI.TOTAL_FINAL_PRICE)\n",
    "                            FROM Receipt_items AS RI)\n",
    "GROUP BY U.ID\n",
    "\"\"\", conn)"
   ]
  },
  {
   "cell_type": "code",
   "execution_count": 10,
   "id": "64a3f338",
   "metadata": {},
   "outputs": [
    {
     "data": {
      "text/html": [
       "<div>\n",
       "<style scoped>\n",
       "    .dataframe tbody tr th:only-of-type {\n",
       "        vertical-align: middle;\n",
       "    }\n",
       "\n",
       "    .dataframe tbody tr th {\n",
       "        vertical-align: top;\n",
       "    }\n",
       "\n",
       "    .dataframe thead th {\n",
       "        text-align: right;\n",
       "    }\n",
       "</style>\n",
       "<table border=\"1\" class=\"dataframe\">\n",
       "  <thead>\n",
       "    <tr style=\"text-align: right;\">\n",
       "      <th></th>\n",
       "      <th>DESCRIPTION</th>\n",
       "      <th>TOTAL_FINAL_PRICE</th>\n",
       "    </tr>\n",
       "  </thead>\n",
       "  <tbody>\n",
       "    <tr>\n",
       "      <th>0</th>\n",
       "      <td>Starbucks Iced Coffee Premium Coffee Beverage ...</td>\n",
       "      <td>31005.99</td>\n",
       "    </tr>\n",
       "  </tbody>\n",
       "</table>\n",
       "</div>"
      ],
      "text/plain": [
       "                                         DESCRIPTION  TOTAL_FINAL_PRICE\n",
       "0  Starbucks Iced Coffee Premium Coffee Beverage ...           31005.99"
      ]
     },
     "execution_count": 10,
     "metadata": {},
     "output_type": "execute_result"
    }
   ],
   "source": [
    "# What is the name of the most expensive item purchased?\n",
    "pd.read_sql(\"\"\"\n",
    "            SELECT RI.DESCRIPTION, RI.TOTAL_FINAL_PRICE\n",
    "            FROM receipt_items as RI\n",
    "            JOIN receipts as RE\n",
    "            ON RI.REWARDS_RECEIPT_ID = RE.ID\n",
    "            ORDER BY TOTAL_FINAL_PRICE DESC \n",
    "            LIMIT 1\n",
    "            \"\"\", conn)"
   ]
  },
  {
   "cell_type": "code",
   "execution_count": 18,
   "id": "1eda2d55",
   "metadata": {},
   "outputs": [
    {
     "data": {
      "text/html": [
       "<div>\n",
       "<style scoped>\n",
       "    .dataframe tbody tr th:only-of-type {\n",
       "        vertical-align: middle;\n",
       "    }\n",
       "\n",
       "    .dataframe tbody tr th {\n",
       "        vertical-align: top;\n",
       "    }\n",
       "\n",
       "    .dataframe thead th {\n",
       "        text-align: right;\n",
       "    }\n",
       "</style>\n",
       "<table border=\"1\" class=\"dataframe\">\n",
       "  <thead>\n",
       "    <tr style=\"text-align: right;\">\n",
       "      <th></th>\n",
       "      <th>month</th>\n",
       "      <th>COUNT(U.ID)</th>\n",
       "    </tr>\n",
       "  </thead>\n",
       "  <tbody>\n",
       "    <tr>\n",
       "      <th>0</th>\n",
       "      <td>01</td>\n",
       "      <td>4222</td>\n",
       "    </tr>\n",
       "    <tr>\n",
       "      <th>1</th>\n",
       "      <td>02</td>\n",
       "      <td>3830</td>\n",
       "    </tr>\n",
       "    <tr>\n",
       "      <th>2</th>\n",
       "      <td>03</td>\n",
       "      <td>4767</td>\n",
       "    </tr>\n",
       "    <tr>\n",
       "      <th>3</th>\n",
       "      <td>04</td>\n",
       "      <td>4882</td>\n",
       "    </tr>\n",
       "    <tr>\n",
       "      <th>4</th>\n",
       "      <td>05</td>\n",
       "      <td>5627</td>\n",
       "    </tr>\n",
       "    <tr>\n",
       "      <th>5</th>\n",
       "      <td>06</td>\n",
       "      <td>5405</td>\n",
       "    </tr>\n",
       "    <tr>\n",
       "      <th>6</th>\n",
       "      <td>07</td>\n",
       "      <td>6058</td>\n",
       "    </tr>\n",
       "    <tr>\n",
       "      <th>7</th>\n",
       "      <td>08</td>\n",
       "      <td>6191</td>\n",
       "    </tr>\n",
       "    <tr>\n",
       "      <th>8</th>\n",
       "      <td>09</td>\n",
       "      <td>6355</td>\n",
       "    </tr>\n",
       "    <tr>\n",
       "      <th>9</th>\n",
       "      <td>10</td>\n",
       "      <td>7305</td>\n",
       "    </tr>\n",
       "    <tr>\n",
       "      <th>10</th>\n",
       "      <td>11</td>\n",
       "      <td>7512</td>\n",
       "    </tr>\n",
       "    <tr>\n",
       "      <th>11</th>\n",
       "      <td>12</td>\n",
       "      <td>8447</td>\n",
       "    </tr>\n",
       "  </tbody>\n",
       "</table>\n",
       "</div>"
      ],
      "text/plain": [
       "   month  COUNT(U.ID)\n",
       "0     01         4222\n",
       "1     02         3830\n",
       "2     03         4767\n",
       "3     04         4882\n",
       "4     05         5627\n",
       "5     06         5405\n",
       "6     07         6058\n",
       "7     08         6191\n",
       "8     09         6355\n",
       "9     10         7305\n",
       "10    11         7512\n",
       "11    12         8447"
      ]
     },
     "execution_count": 18,
     "metadata": {},
     "output_type": "execute_result"
    }
   ],
   "source": [
    "# How many users scanned in each month?\n",
    "pd.read_sql( \"\"\"\n",
    "SELECT strftime('%m', DATE_SCANNED) AS month, COUNT(U.ID)\n",
    "FROM Users AS U\n",
    "INNER JOIN Receipts AS RE ON RE.USER_ID = U.ID\n",
    "GROUP BY MONTH\n",
    "\"\"\", conn)"
   ]
  },
  {
   "cell_type": "code",
   "execution_count": 20,
   "id": "76b92f78",
   "metadata": {},
   "outputs": [],
   "source": [
    "import pandas as pd\n",
    "import matplotlib.pyplot as plt\n",
    "\n",
    "# Load the data into pandas dataframes\n",
    "users = pd.read_csv('users.csv')\n",
    "receipts = pd.read_csv('receipts.csv')\n",
    "brands = pd.read_csv('brands.csv')\n",
    "receipt_items = pd.read_csv('receipt_items.csv')"
   ]
  },
  {
   "cell_type": "markdown",
   "id": "796486ba",
   "metadata": {},
   "source": [
    "First I wanted to check how many missing values there were in each csv file/table, and so I used to the .isnull() function alongside .sum() to see how many values in each column were missing, then I assigned the total missing value count as a value in a dictionary to the name of the table to later plot as a graph."
   ]
  },
  {
   "cell_type": "code",
   "execution_count": 25,
   "id": "36668238",
   "metadata": {},
   "outputs": [
    {
     "name": "stdout",
     "output_type": "stream",
     "text": [
      "USERS\n",
      "CREATED_DATE           0\n",
      "BIRTH_DATE             0\n",
      "GENDER                 0\n",
      "LAST_REWARDS_LOGIN     0\n",
      "STATE                  0\n",
      "SIGN_UP_PLATFORM      45\n",
      "SIGN_UP_SOURCE         0\n",
      "ID                     0\n",
      "dtype: int64\n",
      "RECEIPTS\n",
      "ID                               0\n",
      "STORE_NAME                    1836\n",
      "PURCHASE_DATE                 2066\n",
      "PURCHASE_TIME                 4947\n",
      "DATE_SCANNED                     0\n",
      "TOTAL_SPENT                   1492\n",
      "REWARDS_RECEIPT_STATUS           0\n",
      "USER_ID                          0\n",
      "USER_VIEWED                   6465\n",
      "PURCHASED_ITEM_COUNT          1452\n",
      "CREATE_DATE                      0\n",
      "PENDING_DATE                  1453\n",
      "MODIFY_DATE                      2\n",
      "FLAGGED_DATE                 66576\n",
      "PROCESSED_DATE               70601\n",
      "FINISHED_DATE                 6252\n",
      "REJECTED_DATE                66217\n",
      "NEEDS_FETCH_REVIEW           70276\n",
      "DIGITAL_RECEIPT                  0\n",
      "DELETED                      69733\n",
      "NON_POINT_EARNING_RECEIPT     8986\n",
      "dtype: int64\n",
      "BRANDS\n",
      "ID                     0\n",
      "BARCODE                0\n",
      "BRAND_CODE            25\n",
      "CPG_ID                 0\n",
      "CATEGORY              27\n",
      "CATEGORY_CODE         31\n",
      "NAME                   0\n",
      "ROMANCE_TEXT         103\n",
      "RELATED_BRAND_IDS    243\n",
      "dtype: int64\n",
      "RECEIPT_ITEMS\n",
      "REWARDS_RECEIPT_ID                 0\n",
      "ITEM_INDEX                         0\n",
      "REWARDS_RECEIPT_ITEM_ID            0\n",
      "DESCRIPTION                     1091\n",
      "BARCODE                       135369\n",
      "BRAND_CODE                    205490\n",
      "QUANTITY_PURCHASED              7756\n",
      "TOTAL_FINAL_PRICE                692\n",
      "POINTS_EARNED                 341425\n",
      "REWARDS_GROUP                 298440\n",
      "ORIGINAL_RECEIPT_ITEM_TEXT      1681\n",
      "MODIFY_DATE                        0\n",
      "dtype: int64\n"
     ]
    }
   ],
   "source": [
    "nulldict = dict()\n",
    "usersnull = users.isnull().sum()\n",
    "print('USERS')\n",
    "print(usersnull)\n",
    "nulldict['users'] = (usersnull.sum())\n",
    "\n",
    "receiptsnull = receipts.isnull().sum()\n",
    "print('RECEIPTS')\n",
    "print(receiptsnull)\n",
    "nulldict['receipts'] = receiptsnull.sum()\n",
    "\n",
    "brandsnull = brands.isnull().sum()\n",
    "print('BRANDS')\n",
    "print(brandsnull)\n",
    "nulldict['brands'] = brandsnull.sum()\n",
    "\n",
    "receipt_itemsnull = receipt_items.isnull().sum()\n",
    "print('RECEIPT_ITEMS')\n",
    "print(receipt_itemsnull)\n",
    "nulldict['receipt_items'] = receipt_itemsnull.sum()"
   ]
  },
  {
   "cell_type": "code",
   "execution_count": 26,
   "id": "e1c3012e",
   "metadata": {},
   "outputs": [
    {
     "data": {
      "text/plain": [
       "<BarContainer object of 4 artists>"
      ]
     },
     "execution_count": 26,
     "metadata": {},
     "output_type": "execute_result"
    },
    {
     "data": {
      "image/png": "[encoded data removed]",
      "text/plain": [
       "<Figure size 432x288 with 1 Axes>"
      ]
     },
     "metadata": {
      "needs_background": "light"
     },
     "output_type": "display_data"
    }
   ],
   "source": [
    "tables = list(nulldict.keys())\n",
    "null_amount = list(nulldict.values())\n",
    "\n",
    "plt.bar(range(len(nulldict)), null_amount, tick_label=tables)"
   ]
  },
  {
   "cell_type": "markdown",
   "id": "3d7db1b4",
   "metadata": {},
   "source": [
    "Based off the results of this code, we can see that there is not that much wrong when it comes to the data in users and brands, however there are a significant amount of missing data in both the receipt and receipt_items data. For example, the receipt_items table has over 200,000 missing values in the BRAND_CODE column which can cause issues when joining this table with the Brands table and trying to analyze data. This would definetely be something that is concerning and should be shared with a stakeholder as to why it isn't being tracked correctly or efficiently. "
   ]
  },
  {
   "cell_type": "markdown",
   "id": "a044dc3f",
   "metadata": {},
   "source": [
    "Next, I wanted to show a graph showing the number of users logged per month. This is just a visualization of the SQL query I did for the last question that was asked. "
   ]
  },
  {
   "cell_type": "code",
   "execution_count": 32,
   "id": "f5e74449",
   "metadata": {},
   "outputs": [
    {
     "data": {
      "text/plain": [
       "Text(0.5, 1.0, 'Growth of Users By Month')"
      ]
     },
     "execution_count": 32,
     "metadata": {},
     "output_type": "execute_result"
    },
    {
     "data": {
      "image/png": "[encoded data removed]",
      "text/plain": [
       "<Figure size 432x288 with 1 Axes>"
      ]
     },
     "metadata": {
      "needs_background": "light"
     },
     "output_type": "display_data"
    }
   ],
   "source": [
    "userspermonth = pd.read_sql( \"\"\"\n",
    "SELECT strftime('%m', DATE_SCANNED) AS month, COUNT(U.ID)\n",
    "FROM Users AS U\n",
    "INNER JOIN Receipts AS RE ON RE.USER_ID = U.ID\n",
    "GROUP BY MONTH\n",
    "\"\"\", conn)\n",
    "userspermonth.plot()\n",
    "plt.xlabel(\"Month\")\n",
    "plt.ylabel(\"# of Users Scanned\")\n",
    "plt.title(\"Growth of Users By Month\")"
   ]
  },
  {
   "cell_type": "markdown",
   "id": "e581266a",
   "metadata": {},
   "source": [
    "You can see a pretty basic linear trend here. Essentially, this is telling us that on average, month over month, the number of users scanning in receipts per month is growing. This is a good sign of growth within the company, and would be very informative to show to stakeholders. I think that these types of visualizations are what are important to share to non-technical stakeholders because they are easy to read and understand."
   ]
  },
  {
   "cell_type": "code",
   "execution_count": 34,
   "id": "6b11ac01",
   "metadata": {},
   "outputs": [],
   "source": [
    "crsr.close()\n",
    "conn.close()"
   ]
  },
  {
   "cell_type": "code",
   "execution_count": null,
   "id": "95d5e2f4",
   "metadata": {},
   "outputs": [],
   "source": []
  }
 ],
 "metadata": {
  "kernelspec": {
   "display_name": "Python 3",
   "language": "python",
   "name": "python3"
  },
  "language_info": {
   "codemirror_mode": {
    "name": "ipython",
    "version": 3
   },
   "file_extension": ".py",
   "mimetype": "text/x-python",
   "name": "python",
   "nbconvert_exporter": "python",
   "pygments_lexer": "ipython3",
   "version": "3.8.8"
  }
 },
 "nbformat": 4,
 "nbformat_minor": 5
}
